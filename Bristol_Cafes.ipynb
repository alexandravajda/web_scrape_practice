{
 "cells": [
  {
   "cell_type": "code",
   "execution_count": 277,
   "id": "91d0a18f-1838-4829-a82e-7498fc84ec1e",
   "metadata": {},
   "outputs": [
    {
     "ename": "ModuleNotFoundError",
     "evalue": "No module named 'matplotlib'",
     "output_type": "error",
     "traceback": [
      "\u001b[0;31m---------------------------------------------------------------------------\u001b[0m",
      "\u001b[0;31mModuleNotFoundError\u001b[0m                       Traceback (most recent call last)",
      "Input \u001b[0;32mIn [277]\u001b[0m, in \u001b[0;36m<cell line: 6>\u001b[0;34m()\u001b[0m\n\u001b[1;32m      4\u001b[0m \u001b[38;5;28;01mfrom\u001b[39;00m \u001b[38;5;21;01mwebdriver_manager\u001b[39;00m\u001b[38;5;21;01m.\u001b[39;00m\u001b[38;5;21;01mchrome\u001b[39;00m \u001b[38;5;28;01mimport\u001b[39;00m ChromeDriverManager\n\u001b[1;32m      5\u001b[0m \u001b[38;5;28;01mfrom\u001b[39;00m \u001b[38;5;21;01mselenium\u001b[39;00m\u001b[38;5;21;01m.\u001b[39;00m\u001b[38;5;21;01mwebdriver\u001b[39;00m\u001b[38;5;21;01m.\u001b[39;00m\u001b[38;5;21;01mcommon\u001b[39;00m\u001b[38;5;21;01m.\u001b[39;00m\u001b[38;5;21;01mby\u001b[39;00m \u001b[38;5;28;01mimport\u001b[39;00m By\n\u001b[0;32m----> 6\u001b[0m \u001b[38;5;28;01mimport\u001b[39;00m \u001b[38;5;21;01mmatplotlib\u001b[39;00m\u001b[38;5;21;01m.\u001b[39;00m\u001b[38;5;21;01mpyplot\u001b[39;00m \u001b[38;5;28;01mas\u001b[39;00m \u001b[38;5;21;01mplt\u001b[39;00m\n",
      "\u001b[0;31mModuleNotFoundError\u001b[0m: No module named 'matplotlib'"
     ]
    }
   ],
   "source": [
    "import pandas as pd\n",
    "import time\n",
    "from selenium import webdriver\n",
    "from webdriver_manager.chrome import ChromeDriverManager\n",
    "from selenium.webdriver.common.by import By\n",
    "import matplotlib.pyplot as plt"
   ]
  },
  {
   "cell_type": "code",
   "execution_count": 279,
   "id": "57734e95-c690-475a-a3bb-0248972cd49a",
   "metadata": {
    "tags": []
   },
   "outputs": [
    {
     "name": "stdout",
     "output_type": "stream",
     "text": [
      "\n"
     ]
    },
    {
     "name": "stderr",
     "output_type": "stream",
     "text": [
      "[WDM] - ====== WebDriver manager ======\n",
      "[WDM] - Current google-chrome version is 102.0.5005\n",
      "[WDM] - Get LATEST chromedriver version for 102.0.5005 google-chrome\n",
      "[WDM] - Driver [/Users/vajdaalexandra/.wdm/drivers/chromedriver/mac64/102.0.5005.61/chromedriver] found in cache\n",
      "/var/folders/8g/nkh_nv_j2p363bdmfhmjg31h0000gn/T/ipykernel_28060/670030885.py:2: DeprecationWarning: executable_path has been deprecated, please pass in a Service object\n",
      "  driver = webdriver.Chrome(ChromeDriverManager().install())\n",
      "/var/folders/8g/nkh_nv_j2p363bdmfhmjg31h0000gn/T/ipykernel_28060/670030885.py:14: DeprecationWarning: find_elements_by_class_name is deprecated. Please use find_elements(by=By.CLASS_NAME, value=name) instead\n",
      "  cafes = driver.find_elements_by_class_name('OhCyu') # Cafe names\n",
      "/var/folders/8g/nkh_nv_j2p363bdmfhmjg31h0000gn/T/ipykernel_28060/670030885.py:15: DeprecationWarning: find_elements_by_class_name is deprecated. Please use find_elements(by=By.CLASS_NAME, value=name) instead\n",
      "  cafe_links = driver.find_elements_by_class_name('ceUbJ') # Cafe types\n"
     ]
    }
   ],
   "source": [
    "# Create Driver\n",
    "driver = webdriver.Chrome(ChromeDriverManager().install())\n",
    "\n",
    "# Go to the Bristol Cafes page \n",
    "page_url = 'https://www.tripadvisor.co.uk/Restaurants-g186220-c8-Bristol_England.html'\n",
    "driver.get(page_url)\n",
    "\n",
    "# Click on I Accept Cookies\n",
    "time.sleep(5) # Wait to load\n",
    "driver.find_element(By.XPATH, '//button[text()= \"I Accept\"]').click()\n",
    "\n",
    "# Find Cafes\n",
    "\n",
    "cafes = driver.find_elements_by_class_name('OhCyu') # Cafe names \n",
    "cafe_links = driver.find_elements_by_class_name('ceUbJ') # Cafe types and  price category\n",
    "\n",
    "driver.quit()"
   ]
  },
  {
   "cell_type": "code",
   "execution_count": 235,
   "id": "0e467da9-69d2-4301-895a-452f7a3700f2",
   "metadata": {},
   "outputs": [],
   "source": [
    "# Get a list of restaurant type\n",
    "cafe_list = []\n",
    "\n",
    "for x in range (len(cafe_links)):\n",
    "    cafess = cafe_links[x].text\n",
    "    cafe_list.append(cafess)\n"
   ]
  },
  {
   "cell_type": "code",
   "execution_count": 252,
   "id": "76185e31-4cb6-455f-a89d-a9ee5cdf2a8f",
   "metadata": {},
   "outputs": [
    {
     "data": {
      "text/html": [
       "<div>\n",
       "<style scoped>\n",
       "    .dataframe tbody tr th:only-of-type {\n",
       "        vertical-align: middle;\n",
       "    }\n",
       "\n",
       "    .dataframe tbody tr th {\n",
       "        vertical-align: top;\n",
       "    }\n",
       "\n",
       "    .dataframe thead th {\n",
       "        text-align: right;\n",
       "    }\n",
       "</style>\n",
       "<table border=\"1\" class=\"dataframe\">\n",
       "  <thead>\n",
       "    <tr style=\"text-align: right;\">\n",
       "      <th></th>\n",
       "      <th>Cafe Type</th>\n",
       "    </tr>\n",
       "  </thead>\n",
       "  <tbody>\n",
       "    <tr>\n",
       "      <th>0</th>\n",
       "      <td>Italian, Pizza</td>\n",
       "    </tr>\n",
       "    <tr>\n",
       "      <th>1</th>\n",
       "      <td>Cafe, International</td>\n",
       "    </tr>\n",
       "    <tr>\n",
       "      <th>2</th>\n",
       "      <td>Quick Bites, Cafe</td>\n",
       "    </tr>\n",
       "    <tr>\n",
       "      <th>3</th>\n",
       "      <td>Quick Bites, Cafe</td>\n",
       "    </tr>\n",
       "    <tr>\n",
       "      <th>4</th>\n",
       "      <td>Coffee &amp; Tea, Cafe</td>\n",
       "    </tr>\n",
       "  </tbody>\n",
       "</table>\n",
       "</div>"
      ],
      "text/plain": [
       "             Cafe Type\n",
       "0       Italian, Pizza\n",
       "1  Cafe, International\n",
       "2    Quick Bites, Cafe\n",
       "3    Quick Bites, Cafe\n",
       "4   Coffee & Tea, Cafe"
      ]
     },
     "execution_count": 252,
     "metadata": {},
     "output_type": "execute_result"
    }
   ],
   "source": [
    "cafe_type = cafe_list[2::4]\n",
    "cafe_type = {'Cafe Type':cafe_type}\n",
    "cafe_type = pd.DataFrame(cafe_type)\n",
    "cafe_type.head()"
   ]
  },
  {
   "cell_type": "code",
   "execution_count": 251,
   "id": "a8cc9e31-478c-4266-b9b3-24e0857b714e",
   "metadata": {},
   "outputs": [
    {
     "data": {
      "text/html": [
       "<div>\n",
       "<style scoped>\n",
       "    .dataframe tbody tr th:only-of-type {\n",
       "        vertical-align: middle;\n",
       "    }\n",
       "\n",
       "    .dataframe tbody tr th {\n",
       "        vertical-align: top;\n",
       "    }\n",
       "\n",
       "    .dataframe thead th {\n",
       "        text-align: right;\n",
       "    }\n",
       "</style>\n",
       "<table border=\"1\" class=\"dataframe\">\n",
       "  <thead>\n",
       "    <tr style=\"text-align: right;\">\n",
       "      <th></th>\n",
       "      <th>Price Category</th>\n",
       "    </tr>\n",
       "  </thead>\n",
       "  <tbody>\n",
       "    <tr>\n",
       "      <th>0</th>\n",
       "      <td>£</td>\n",
       "    </tr>\n",
       "    <tr>\n",
       "      <th>1</th>\n",
       "      <td>££ - £££</td>\n",
       "    </tr>\n",
       "    <tr>\n",
       "      <th>2</th>\n",
       "      <td>£</td>\n",
       "    </tr>\n",
       "    <tr>\n",
       "      <th>3</th>\n",
       "      <td>££ - £££</td>\n",
       "    </tr>\n",
       "    <tr>\n",
       "      <th>4</th>\n",
       "      <td>£</td>\n",
       "    </tr>\n",
       "  </tbody>\n",
       "</table>\n",
       "</div>"
      ],
      "text/plain": [
       "  Price Category\n",
       "0              £\n",
       "1       ££ - £££\n",
       "2              £\n",
       "3       ££ - £££\n",
       "4              £"
      ]
     },
     "execution_count": 251,
     "metadata": {},
     "output_type": "execute_result"
    }
   ],
   "source": [
    "price_cat = cafe_list[3::4]\n",
    "price_cat = {'Price Category':price_cat}\n",
    "price_cat = pd.DataFrame(price_cat)\n",
    "price_cat.head()"
   ]
  },
  {
   "cell_type": "code",
   "execution_count": 2,
   "id": "9205d3fd-f1e3-4432-aeb4-0da24240232b",
   "metadata": {
    "tags": []
   },
   "outputs": [
    {
     "ename": "NameError",
     "evalue": "name 'cafes' is not defined",
     "output_type": "error",
     "traceback": [
      "\u001b[0;31m---------------------------------------------------------------------------\u001b[0m",
      "\u001b[0;31mNameError\u001b[0m                                 Traceback (most recent call last)",
      "Input \u001b[0;32mIn [2]\u001b[0m, in \u001b[0;36m<cell line: 2>\u001b[0;34m()\u001b[0m\n\u001b[1;32m      1\u001b[0m cafe \u001b[38;5;241m=\u001b[39m []\n\u001b[0;32m----> 2\u001b[0m \u001b[38;5;28;01mfor\u001b[39;00m places \u001b[38;5;129;01min\u001b[39;00m \u001b[43mcafes\u001b[49m:\n\u001b[1;32m      3\u001b[0m     cafe_name \u001b[38;5;241m=\u001b[39m places\u001b[38;5;241m.\u001b[39mtext\n\u001b[1;32m      4\u001b[0m     cafe\u001b[38;5;241m.\u001b[39mappend({\u001b[38;5;124m'\u001b[39m\u001b[38;5;124mCafe Name\u001b[39m\u001b[38;5;124m'\u001b[39m : cafe_name})\n",
      "\u001b[0;31mNameError\u001b[0m: name 'cafes' is not defined"
     ]
    }
   ],
   "source": [
    "cafe = []\n",
    "for places in cafes:\n",
    "    cafe_name = places.text\n",
    "    cafe.append({'Cafe Name' : cafe_name})\n",
    "\n",
    "cafe = pd.DataFrame(cafe)\n",
    "cafe.head()   "
   ]
  },
  {
   "cell_type": "code",
   "execution_count": 259,
   "id": "7936ebac-4729-41a9-a7fd-b52609aba7f0",
   "metadata": {},
   "outputs": [
    {
     "data": {
      "text/html": [
       "<div>\n",
       "<style scoped>\n",
       "    .dataframe tbody tr th:only-of-type {\n",
       "        vertical-align: middle;\n",
       "    }\n",
       "\n",
       "    .dataframe tbody tr th {\n",
       "        vertical-align: top;\n",
       "    }\n",
       "\n",
       "    .dataframe thead th {\n",
       "        text-align: right;\n",
       "    }\n",
       "</style>\n",
       "<table border=\"1\" class=\"dataframe\">\n",
       "  <thead>\n",
       "    <tr style=\"text-align: right;\">\n",
       "      <th></th>\n",
       "      <th>Cafe Name</th>\n",
       "      <th>Cafe Type</th>\n",
       "      <th>Price Category</th>\n",
       "    </tr>\n",
       "  </thead>\n",
       "  <tbody>\n",
       "    <tr>\n",
       "      <th>0</th>\n",
       "      <td>1. Taste of Napoli</td>\n",
       "      <td>Italian, Pizza</td>\n",
       "      <td>£</td>\n",
       "    </tr>\n",
       "    <tr>\n",
       "      <th>1</th>\n",
       "      <td>2. The Crafty Egg</td>\n",
       "      <td>Cafe, International</td>\n",
       "      <td>££ - £££</td>\n",
       "    </tr>\n",
       "    <tr>\n",
       "      <th>2</th>\n",
       "      <td>3. Cafe Amore</td>\n",
       "      <td>Quick Bites, Cafe</td>\n",
       "      <td>£</td>\n",
       "    </tr>\n",
       "    <tr>\n",
       "      <th>3</th>\n",
       "      <td>4. Boston Tea Party Park Street</td>\n",
       "      <td>Quick Bites, Cafe</td>\n",
       "      <td>££ - £££</td>\n",
       "    </tr>\n",
       "    <tr>\n",
       "      <th>4</th>\n",
       "      <td>5. Cafe Refectoire</td>\n",
       "      <td>Coffee &amp; Tea, Cafe</td>\n",
       "      <td>£</td>\n",
       "    </tr>\n",
       "  </tbody>\n",
       "</table>\n",
       "</div>"
      ],
      "text/plain": [
       "                         Cafe Name            Cafe Type Price Category\n",
       "0               1. Taste of Napoli       Italian, Pizza              £\n",
       "1                2. The Crafty Egg  Cafe, International       ££ - £££\n",
       "2                    3. Cafe Amore    Quick Bites, Cafe              £\n",
       "3  4. Boston Tea Party Park Street    Quick Bites, Cafe       ££ - £££\n",
       "4               5. Cafe Refectoire   Coffee & Tea, Cafe              £"
      ]
     },
     "execution_count": 259,
     "metadata": {},
     "output_type": "execute_result"
    }
   ],
   "source": [
    "# Add it all up\n",
    "df = pd.concat([cafe, cafe_type, price_cat], axis=1, join=\"inner\")\n",
    "df.head()"
   ]
  },
  {
   "cell_type": "code",
   "execution_count": 260,
   "id": "c13a912b-d093-478b-add7-096bb2a646b8",
   "metadata": {},
   "outputs": [],
   "source": [
    "df['Rank'] = df['Cafe Name'].str.slice(stop=3) # get rank \n",
    "df['Cafe Name']=df['Cafe Name'].str.slice(start=3) # keep name only"
   ]
  },
  {
   "cell_type": "code",
   "execution_count": 262,
   "id": "86b7529c-61ec-462e-a6bc-51d64b07fcc3",
   "metadata": {},
   "outputs": [
    {
     "data": {
      "text/html": [
       "<div>\n",
       "<style scoped>\n",
       "    .dataframe tbody tr th:only-of-type {\n",
       "        vertical-align: middle;\n",
       "    }\n",
       "\n",
       "    .dataframe tbody tr th {\n",
       "        vertical-align: top;\n",
       "    }\n",
       "\n",
       "    .dataframe thead th {\n",
       "        text-align: right;\n",
       "    }\n",
       "</style>\n",
       "<table border=\"1\" class=\"dataframe\">\n",
       "  <thead>\n",
       "    <tr style=\"text-align: right;\">\n",
       "      <th></th>\n",
       "      <th>Cafe Name</th>\n",
       "      <th>Cafe Type</th>\n",
       "      <th>Price Category</th>\n",
       "      <th>Rank</th>\n",
       "    </tr>\n",
       "  </thead>\n",
       "  <tbody>\n",
       "    <tr>\n",
       "      <th>0</th>\n",
       "      <td>Taste of Napoli</td>\n",
       "      <td>Italian, Pizza</td>\n",
       "      <td>£</td>\n",
       "      <td>1.</td>\n",
       "    </tr>\n",
       "    <tr>\n",
       "      <th>1</th>\n",
       "      <td>The Crafty Egg</td>\n",
       "      <td>Cafe, International</td>\n",
       "      <td>££ - £££</td>\n",
       "      <td>2.</td>\n",
       "    </tr>\n",
       "    <tr>\n",
       "      <th>2</th>\n",
       "      <td>Cafe Amore</td>\n",
       "      <td>Quick Bites, Cafe</td>\n",
       "      <td>£</td>\n",
       "      <td>3.</td>\n",
       "    </tr>\n",
       "    <tr>\n",
       "      <th>3</th>\n",
       "      <td>Boston Tea Party Park Street</td>\n",
       "      <td>Quick Bites, Cafe</td>\n",
       "      <td>££ - £££</td>\n",
       "      <td>4.</td>\n",
       "    </tr>\n",
       "    <tr>\n",
       "      <th>4</th>\n",
       "      <td>Cafe Refectoire</td>\n",
       "      <td>Coffee &amp; Tea, Cafe</td>\n",
       "      <td>£</td>\n",
       "      <td>5.</td>\n",
       "    </tr>\n",
       "  </tbody>\n",
       "</table>\n",
       "</div>"
      ],
      "text/plain": [
       "                      Cafe Name            Cafe Type Price Category Rank\n",
       "0               Taste of Napoli       Italian, Pizza              £  1. \n",
       "1                The Crafty Egg  Cafe, International       ££ - £££  2. \n",
       "2                    Cafe Amore    Quick Bites, Cafe              £  3. \n",
       "3  Boston Tea Party Park Street    Quick Bites, Cafe       ££ - £££  4. \n",
       "4               Cafe Refectoire   Coffee & Tea, Cafe              £  5. "
      ]
     },
     "execution_count": 262,
     "metadata": {},
     "output_type": "execute_result"
    }
   ],
   "source": [
    "df.head()"
   ]
  },
  {
   "cell_type": "code",
   "execution_count": 281,
   "id": "42f41842-bb37-4ac5-b0d3-dd516a1a0bcd",
   "metadata": {},
   "outputs": [
    {
     "data": {
      "image/png": "[encoded data removed]",
      "text/plain": [
       "<Figure size 432x288 with 1 Axes>"
      ]
     },
     "metadata": {
      "needs_background": "light"
     },
     "output_type": "display_data"
    }
   ],
   "source": [
    "df['Cafe Type'].value_counts().plot(kind=\"bar\")\n",
    "plt.show()"
   ]
  },
  {
   "cell_type": "code",
   "execution_count": 282,
   "id": "dbaa4b7b-6253-4f85-847b-dd217c36641f",
   "metadata": {},
   "outputs": [
    {
     "data": {
      "image/png": "[encoded data removed]",
      "text/plain": [
       "<Figure size 432x288 with 1 Axes>"
      ]
     },
     "metadata": {
      "needs_background": "light"
     },
     "output_type": "display_data"
    }
   ],
   "source": [
    "df['Price Category'].value_counts().plot(kind=\"bar\")\n",
    "plt.show()"
   ]
  }
 ],
 "metadata": {
  "kernelspec": {
   "display_name": "Python 3 (ipykernel)",
   "language": "python",
   "name": "python3"
  },
  "language_info": {
   "codemirror_mode": {
    "name": "ipython",
    "version": 3
   },
   "file_extension": ".py",
   "mimetype": "text/x-python",
   "name": "python",
   "nbconvert_exporter": "python",
   "pygments_lexer": "ipython3",
   "version": "3.9.12"
  }
 },
 "nbformat": 4,
 "nbformat_minor": 5
}
